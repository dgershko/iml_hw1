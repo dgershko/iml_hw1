{
 "cells": [
  {
   "cell_type": "markdown",
   "metadata": {},
   "source": [
    "# IML Major HW1\n",
    "| Name | ID |\n",
    "|------|----|\n",
    "| Daniel Gershkovich   | 209088723  |\n",
    "| Assaf Alon   | 207376807  |"
   ]
  },
  {
   "cell_type": "markdown",
   "metadata": {},
   "source": [
    "## Part 1"
   ]
  },
  {
   "cell_type": "code",
   "execution_count": 1,
   "metadata": {},
   "outputs": [],
   "source": [
    "from pprint import pprint\n",
    "\n",
    "import matplotlib.pyplot as plt\n",
    "import numpy as np\n",
    "import pandas as pd\n",
    "import seaborn as sns\n",
    "from matplotlib import pylab\n",
    "from scipy.spatial.distance import cdist\n",
    "from sklearn.model_selection import train_test_split\n",
    "from sklearn.preprocessing import MinMaxScaler\n",
    "\n",
    "params = {\n",
    "    \"xtick.labelsize\": 18,\n",
    "    \"ytick.labelsize\": 18,\n",
    "    \"axes.titlesize\": 22,\n",
    "    \"axes.labelsize\": 20,\n",
    "    \"legend.fontsize\": 18,\n",
    "    \"legend.title_fontsize\": 22,\n",
    "    \"figure.titlesize\": 24,\n",
    "}\n",
    "pylab.rcParams.update(params)\n",
    "\n",
    "ASSAF_ID = 207376807\n",
    "DANIEL_ID = 209088723"
   ]
  },
  {
   "cell_type": "markdown",
   "metadata": {},
   "source": [
    "### Q1"
   ]
  },
  {
   "cell_type": "code",
   "execution_count": 2,
   "metadata": {},
   "outputs": [
    {
     "name": "stdout",
     "output_type": "stream",
     "text": [
      "      patient_id  age sex  weight blood_type            current_location  \\\n",
      "0           1903   32   F    70.8         O+   ('19.04222', '-98.11889')   \n",
      "1           1166   47   M    74.3         A+    ('51.62907', '-0.74934')   \n",
      "2           1963   36   M    91.5         O+    ('39.12074', '27.18052')   \n",
      "3            856   38   M    74.4         O+     ('40.1675', '34.37389')   \n",
      "4           1808   23   F    59.7         A+           ('48.25', '16.4')   \n",
      "...          ...  ...  ..     ...        ...                         ...   \n",
      "1245         588    9   M    27.7         O+       ('4.2475', '9.00472')   \n",
      "1246        1494   56   M    74.2         O+  ('47.80527', '-122.24064')   \n",
      "1247        1824   30   M    78.6         O+  ('37.73604', '-120.93549')   \n",
      "1248         493   33   M    75.8         A+    ('55.67938', '12.53463')   \n",
      "1249         733   14   M    45.3         O+   ('30.16688', '-96.39774')   \n",
      "\n",
      "      num_of_siblings  happiness_score  household_income  \\\n",
      "0                   3                9                 1   \n",
      "1                   2               10                 2   \n",
      "2                   4               11                 4   \n",
      "3                   1                8                 2   \n",
      "4                   1               10                 2   \n",
      "...               ...              ...               ...   \n",
      "1245                3               10                 2   \n",
      "1246                3               10                 1   \n",
      "1247                2               10                 3   \n",
      "1248                1                9                 5   \n",
      "1249                4               10                 1   \n",
      "\n",
      "      conversations_per_day  ...     PCR_03     PCR_04      PCR_05     PCR_06  \\\n",
      "0                         6  ...   1.041181  -1.105253  108.517714   6.175927   \n",
      "1                        13  ...  96.121688  -2.438268  314.041672  25.188875   \n",
      "2                         6  ...   5.531260  -5.282569  175.215865   5.462792   \n",
      "3                        15  ...  -9.795680  -5.032215  292.933617   7.024178   \n",
      "4                         3  ...  35.588668  -9.548718   36.885983  22.601152   \n",
      "...                     ...  ...        ...        ...         ...        ...   \n",
      "1245                      5  ...  -1.048154  -6.617420  313.097035  -1.209834   \n",
      "1246                      8  ... -50.609338  -5.686104  195.605069  23.630261   \n",
      "1247                      2  ...  52.450222 -11.461866   32.951754   5.531199   \n",
      "1248                      6  ... -80.312601  -5.655681   80.255655  -8.228677   \n",
      "1249                      3  ... -41.272742  -8.012994  172.161426 -30.284853   \n",
      "\n",
      "        PCR_07    PCR_08    PCR_09     PCR_10  spread  risk  \n",
      "0     6.095500  3.901404  7.298945 -13.627960       1    -1  \n",
      "1     4.964383  4.544491  5.086298   1.891701      -1     1  \n",
      "2     4.961834  3.340734  1.713049 -11.613582      -1     1  \n",
      "3     2.951563  1.775654  0.675661  -5.757544      -1    -1  \n",
      "4     5.961358  5.664607 -4.736603  -4.422387      -1     1  \n",
      "...        ...       ...       ...        ...     ...   ...  \n",
      "1245  1.169673  7.727177 -3.091915 -13.761051       1    -1  \n",
      "1246  2.607271  8.002931  0.817510  -2.864392      -1     1  \n",
      "1247  3.333986  0.737609 -7.977065  -6.143124      -1    -1  \n",
      "1248  3.092422  6.273519  0.057740  -6.293705      -1    -1  \n",
      "1249  3.335957  2.644076 -3.653115  -6.715911      -1     1  \n",
      "\n",
      "[1250 rows x 26 columns]\n"
     ]
    }
   ],
   "source": [
    "# Q1\n",
    "data_frame = pd.read_csv(\"virus_data.csv\")\n",
    "print(data_frame)"
   ]
  },
  {
   "cell_type": "markdown",
   "metadata": {},
   "source": [
    "### Q2"
   ]
  },
  {
   "cell_type": "code",
   "execution_count": null,
   "metadata": {},
   "outputs": [],
   "source": [
    "# Q2\n",
    "print(data_frame[\"conversations_per_day\"].value_counts().sort_index())"
   ]
  },
  {
   "cell_type": "markdown",
   "metadata": {},
   "source": [
    "### Q3"
   ]
  },
  {
   "cell_type": "code",
   "execution_count": null,
   "metadata": {},
   "outputs": [],
   "source": [
    "# Q3\n",
    "pprint(list(data_frame.keys()))\n",
    "pprint(data_frame[\"happiness_score\"].value_counts())\n",
    "pprint(data_frame[\"household_income\"].value_counts())\n",
    "pprint(data_frame[\"sport_activity\"].value_counts())"
   ]
  },
  {
   "cell_type": "code",
   "execution_count": 4,
   "metadata": {},
   "outputs": [],
   "source": [
    "# Q4\n",
    "randomness = ASSAF_ID % 100 + DANIEL_ID % 100\n",
    "X = data_frame.drop(\"spread\", axis=1)\n",
    "Y = data_frame[\"spread\"]\n",
    "train_set, test_set, train_labels, test_labels = train_test_split(\n",
    "    X, Y, random_state=randomness, test_size=0.2\n",
    ")\n",
    "full_train_set, full_test_set = train_test_split(data_frame, random_state=randomness, test_size=0.2)"
   ]
  },
  {
   "cell_type": "markdown",
   "metadata": {},
   "source": [
    "## Part 2"
   ]
  },
  {
   "cell_type": "markdown",
   "metadata": {},
   "source": [
    "### Q5 / Task A"
   ]
  },
  {
   "cell_type": "code",
   "execution_count": null,
   "metadata": {},
   "outputs": [],
   "source": [
    "# Q5 / Task A\n",
    "plot = sns.pairplot(\n",
    "    full_train_set, vars=[\"PCR_01\", \"PCR_03\"], hue=\"spread\", plot_kws={\"s\": 16}, palette=[\"#90EE90\", \"#8B0000\"]\n",
    ")\n",
    "for ax in np.ravel(plot.axes):\n",
    "    ax.grid(alpha=0.5)\n",
    "plot.fig.set_size_inches(12, 8)\n",
    "# plt.tight_layout()\n",
    "plot.fig.suptitle(\"Correlation between PCR_01 and PCR_03\", y=1.01)\n",
    "plt.savefig(\"img.png\", bbox_inches=\"tight\")"
   ]
  },
  {
   "cell_type": "markdown",
   "metadata": {},
   "source": [
    "### Q6"
   ]
  },
  {
   "cell_type": "code",
   "execution_count": null,
   "metadata": {},
   "outputs": [],
   "source": [
    "# Q6\n",
    "corr_01_spr = data_frame[[\"PCR_01\", \"PCR_03\", \"spread\"]].corr()\n",
    "\n",
    "plt.figure(figsize=(10, 8))\n",
    "sns.heatmap(corr_01_spr, annot=True, cmap=\"coolwarm\", annot_kws={\"size\": 36})\n",
    "plt.title(\"Correlation matrix of features\")\n",
    "plt.savefig(\"img.png\")\n",
    "plt.show()\n",
    "print(corr_01_spr)"
   ]
  },
  {
   "cell_type": "markdown",
   "metadata": {},
   "source": [
    "### Q7 / Task B"
   ]
  },
  {
   "cell_type": "code",
   "execution_count": 67,
   "metadata": {},
   "outputs": [],
   "source": [
    "# Q7 / Task B\n",
    "from sklearn.base import BaseEstimator, ClassifierMixin\n",
    "\n",
    "# Tip: Read about scipy...cdist, np.copy, and np.argsort (or better: np.argpartition)\n",
    "# Avoid using for loops, list, map, lambda, etc\n",
    "\n",
    "\n",
    "class kNN(BaseEstimator, ClassifierMixin):\n",
    "    def __init__(self, n_neighbors: int = 3):\n",
    "        self.n_neighbors = n_neighbors\n",
    "\n",
    "    def fit(self, X, y):\n",
    "        self.X = X\n",
    "        self.y = y.to_numpy()\n",
    "        return self\n",
    "\n",
    "    def predict(self, X):\n",
    "        distances = cdist(X, self.X)\n",
    "        distance_idx = np.argpartition(distances, self.n_neighbors, -1)[:, :self.n_neighbors]\n",
    "        return np.sign(np.sum(self.y[distance_idx], axis=-1))\n",
    "\n",
    "\n"
   ]
  },
  {
   "cell_type": "markdown",
   "metadata": {},
   "source": [
    "### Q8 / Task C"
   ]
  },
  {
   "cell_type": "code",
   "execution_count": null,
   "metadata": {},
   "outputs": [],
   "source": [
    "# Q8 / Task C\n",
    "\n",
    "train_set, test_set, train_labels, test_labels = train_test_split(\n",
    "    data_frame[[\"PCR_01\", \"PCR_03\"]],\n",
    "    data_frame[\"spread\"],\n",
    "    random_state=randomness,\n",
    "    test_size=0.2,\n",
    ")\n",
    "# print(len(train_set), len(test_set))\n",
    "knn = kNN(n_neighbors=1)\n",
    "knn.fit(train_set, train_labels)\n",
    "predictions = knn.predict(test_set)\n",
    "\n",
    "\n",
    "import visualize_clf\n",
    "\n",
    "visualize_clf.visualize_clf(knn, test_set, test_labels, \"1-NN Classifier\", \"PCR_01\", \"PCR_03\")\n",
    "train_score = knn.score(train_set, train_labels)\n",
    "test_score = knn.score(test_set, test_labels)\n",
    "print(f\"train score: {train_score}, test score: {test_score}\")\n"
   ]
  },
  {
   "cell_type": "markdown",
   "metadata": {},
   "source": [
    "### Q9"
   ]
  },
  {
   "cell_type": "code",
   "execution_count": null,
   "metadata": {},
   "outputs": [],
   "source": [
    "# Q9\n",
    "\n",
    "test_set = MinMaxScaler((-1, 1)).fit_transform(test_set)\n",
    "train_set = MinMaxScaler((-1, 1)).fit_transform(train_set)\n",
    "\n",
    "knn = kNN(n_neighbors=1)\n",
    "knn.fit(train_set, train_labels)\n",
    "visualize_clf.visualize_clf(knn, test_set, test_labels, \"Normalized spread 1-NN classifier\", \"PCR_01\", \"PCR_03\")\n",
    "train_score = knn.score(train_set, train_labels)\n",
    "test_score = knn.score(test_set, test_labels)\n",
    "print(f\"train score: {train_score}, test score: {test_score}\")\n"
   ]
  },
  {
   "cell_type": "markdown",
   "metadata": {},
   "source": [
    "### Q10"
   ]
  },
  {
   "cell_type": "code",
   "execution_count": null,
   "metadata": {},
   "outputs": [],
   "source": [
    "# Q10\n",
    "\n",
    "knn = kNN(n_neighbors=5)\n",
    "knn.fit(train_set, train_labels)\n",
    "visualize_clf.visualize_clf(knn, test_set, test_labels, \"Normalized spread 5-NN classifier\", \"PCR_01\", \"PCR_03\")\n",
    "train_score = knn.score(train_set, train_labels)\n",
    "test_score = knn.score(test_set, test_labels)\n",
    "print(f\"train score: {train_score}, test score: {test_score}\")\n"
   ]
  },
  {
   "cell_type": "markdown",
   "metadata": {},
   "source": [
    "### Q11"
   ]
  },
  {
   "cell_type": "code",
   "execution_count": null,
   "metadata": {},
   "outputs": [],
   "source": [
    "# Q11\n",
    "\n",
    "samples_x = np.random.chisquare(df=2, size=10000)\n",
    "samples_y = np.random.uniform(2, 5, size=10000)\n",
    "samples = np.column_stack((samples_x, samples_y))\n",
    "scaler = MinMaxScaler((-1,1)).fit(samples)\n",
    "print(scaler.transform(((1, 3), (5, 3))))\n",
    "normalized_samples = MinMaxScaler((-1,1)).fit_transform(samples)\n",
    "df = pd.DataFrame(samples, columns=[\"x\",\"y\"])\n",
    "df_1 = pd.DataFrame(normalized_samples, columns=[\"x\", 'y'])\n",
    "sns.scatterplot(data=df, x='x', y=\"y\", color='red', label='regular')\n",
    "sns.scatterplot(data=df_1, x='x', y='y', color='blue', label='normalized')\n",
    "plt.grid(True)\n",
    "plt.xlabel('chi-square distributed feature')\n",
    "plt.ylabel('uniform distributed feature')\n",
    "plt.xlim(-2, 20)\n",
    "plt.show()\n"
   ]
  },
  {
   "cell_type": "markdown",
   "metadata": {},
   "source": [
    "## Part 3"
   ]
  },
  {
   "cell_type": "markdown",
   "metadata": {},
   "source": [
    "### Q13 / Task D"
   ]
  },
  {
   "cell_type": "code",
   "execution_count": 5,
   "metadata": {},
   "outputs": [],
   "source": [
    "# Task D\n",
    "train_data_1 = full_train_set.copy()\n",
    "train_data_1[\"SpecialProperty\"] = train_data_1[\"blood_type\"].isin((\"O+\", \"B+\"))  # Pascal case replaces snake case :(\n",
    "train_data_1 = train_data_1.drop(\"blood_type\", axis=1)"
   ]
  },
  {
   "cell_type": "code",
   "execution_count": 6,
   "metadata": {},
   "outputs": [],
   "source": [
    "# Q13\n",
    "\n",
    "# Extracting possible symptoms and adding them as Boolean values\n",
    "possible_symptoms = train_data_1[\"symptoms\"].unique()\n",
    "possible_symptoms = set(symptom for combination in possible_symptoms if isinstance(combination, str) for symptom in combination.split(';'))\n",
    "for symptom in possible_symptoms:\n",
    "    train_data_1[symptom] = train_data_1[\"symptoms\"].apply(lambda symptoms_str: int(symptom in symptoms_str) if isinstance(symptoms_str, str) else 0)\n",
    "train_data_1 = train_data_1.drop(\"symptoms\", axis=1)\n"
   ]
  },
  {
   "cell_type": "markdown",
   "metadata": {},
   "source": [
    "### Task E"
   ]
  },
  {
   "cell_type": "code",
   "execution_count": 7,
   "metadata": {},
   "outputs": [],
   "source": [
    "# Task E\n",
    "import ast\n",
    "\n",
    "\n",
    "def date_to_int(date: str):\n",
    "    \"\"\"\n",
    "    Converts a date in the format of `dd-MM-yy` to an integer.\n",
    "    Accuracy is compromised for easier code (Not accounting for different number of days in month)\n",
    "    \"\"\"\n",
    "    splitted_date = [int(n) for n in date.split(\"-\")]\n",
    "    return 375 * splitted_date[2] + 31 * splitted_date[1] + splitted_date[0]\n",
    "\n",
    "train_data_1[\"current_location_x\"] = train_data_1[\"current_location\"].apply(lambda location: ast.literal_eval(location)[0])\n",
    "train_data_1[\"current_location_y\"] = train_data_1[\"current_location\"].apply(lambda location: ast.literal_eval(location)[1])\n",
    "train_data_1[\"is_special_blood\"] = train_data_1[\"SpecialProperty\"].apply(lambda is_special: int(is_special))\n",
    "train_data_1[\"is_male\"] = train_data_1[\"sex\"].apply(lambda sex: int(sex == \"M\"))\n",
    "train_data_1[\"pcr_date\"] = train_data_1[\"pcr_date\"].apply(date_to_int)\n",
    "\n",
    "train_data_1 = train_data_1.drop([\"patient_id\", \"current_location\", \"sex\", \"SpecialProperty\"], axis=1)"
   ]
  },
  {
   "cell_type": "markdown",
   "metadata": {},
   "source": [
    "### Q14 / Q15"
   ]
  },
  {
   "cell_type": "code",
   "execution_count": null,
   "metadata": {},
   "outputs": [],
   "source": [
    "# Q14, Q15\n",
    "def generate_graphs(df, col_name):\n",
    "    # COL_NAME = ['PCR_01', 'num_of_siblings']\n",
    "    COLS, ROWS = (2, len(col_name))\n",
    "    plt.figure(figsize=(5 * COLS, 4 * ROWS))\n",
    "    for row in range(ROWS):\n",
    "        column = col_name[row]\n",
    "        for j, cls in enumerate([\"risk\", \"spread\"]):\n",
    "            plt.subplot(ROWS,COLS, row * COLS + 1 + j)\n",
    "            isContinuous = \"float\" in df[column].dtype.name\n",
    "            sns.histplot(data=df, x=column, hue=cls, palette=[\"#90EE90\", \"#8B0000\"], line_kws={\"linewidth\": 3},\n",
    "            kde=isContinuous, multiple=\"layer\" if isContinuous else \"dodge\")\n",
    "            # sums = df[cls].groupby(column).sum().reset_index()\n",
    "            plt.grid(alpha=0.5)\n",
    "    plt.tight_layout()\n",
    "\n",
    "\n",
    "for i in train_data_1.columns:\n",
    "    generate_graphs(train_data_1, [i])\n",
    "    plt.savefig(f\"{i}.png\")\n",
    "    plt.show()\n"
   ]
  },
  {
   "cell_type": "markdown",
   "metadata": {},
   "source": [
    "### Q16"
   ]
  },
  {
   "cell_type": "code",
   "execution_count": null,
   "metadata": {},
   "outputs": [],
   "source": [
    "# Q16\n",
    "def pairplot(df: pd.DataFrame, prediction=\"risk\"):\n",
    "    plot = sns.pairplot(df[df.filter(like='PCR').columns.tolist() + [prediction]], plot_kws={\"s\": 15}, hue=prediction, palette=[\"#90EE90\", \"#8B0000\"])\n",
    "    for ax in plot.axes.flatten():\n",
    "        ax.grid(True)\n",
    "    plot.figure.set_size_inches(15,10)\n",
    "    # plot.legend.\n",
    "    plt.legend(loc=\"upper right\", frameon=True, fontsize=15, markerscale=50)\n",
    "    plt.show()\n",
    "\n",
    "# Prints the entire matrix\n",
    "# pairplot(train_data_1)\n",
    "\n",
    "plt.grid(True)\n",
    "pairplot(train_data_1[train_data_1['is_special_blood'] == True][[\"PCR_02\", \"PCR_06\", \"risk\"]])\n",
    "pairplot(train_data_1[train_data_1['is_special_blood'] == False][[\"PCR_02\", \"PCR_06\", \"risk\"]])\n",
    "    \n",
    "    \n"
   ]
  },
  {
   "cell_type": "markdown",
   "metadata": {},
   "source": [
    "### Q17"
   ]
  },
  {
   "cell_type": "code",
   "execution_count": null,
   "metadata": {},
   "outputs": [],
   "source": [
    "# Q17\n",
    "# plot = sns.jointplot(data=train_data_1[train_data_1[\"is_special_blood\"] == False], x=\"PCR_02\", y=\"PCR_06\", hue=\"risk\", palette=[\"#90EE90\", \"#8B0000\"])\n",
    "plot = sns.jointplot(data=train_data_1[train_data_1[\"is_special_blood\"] == True], x=\"PCR_02\", y=\"PCR_06\", hue=\"risk\", palette=[\"#90EE90\", \"#8B0000\"])\n",
    "# plot = sns.jointplot(data=train_data_1, x=\"PCR_02\", y=\"PCR_06\", hue=\"risk\", palette=[\"#90EE90\", \"#8B0000\"])\n",
    "plt.grid(True)\n",
    "plot.figure.suptitle(\"PCR_06 vs PCR_02, has blood\")\n",
    "plt.show()"
   ]
  },
  {
   "cell_type": "markdown",
   "metadata": {},
   "source": [
    "### Q18"
   ]
  },
  {
   "cell_type": "code",
   "execution_count": null,
   "metadata": {},
   "outputs": [],
   "source": [
    "def plot3d(df, colX, colY, colZ, title, hue=None, s=1):\n",
    "  %matplotlib inline\n",
    "\n",
    "  fig = plt.figure(figsize=(20, 4))\n",
    "  axes = [fig.add_subplot(1, 4, 1, projection='3d'),\n",
    "          fig.add_subplot(1, 4, 2, projection='3d'),\n",
    "          fig.add_subplot(1, 4, 3, projection='3d'),\n",
    "          fig.add_subplot(1, 4, 4, projection='3d')]\n",
    "\n",
    "  palette = sns.color_palette(\"hls\", 2)\n",
    "\n",
    "  for i,ax in enumerate(axes):\n",
    "    if hue is None:\n",
    "      ax.scatter3D(df[colX], df[colY], df[colZ], color=palette[0], s=s)\n",
    "    else:\n",
    "      idx = df[hue] == True\n",
    "      df1 = df[idx]\n",
    "      df2 = df[~idx]\n",
    "\n",
    "      ax.scatter3D(df1[colX], df1[colY], df1[colZ], color=palette[0], s=s)\n",
    "      ax.scatter3D(df2[colX], df2[colY], df2[colZ], color=palette[1], s=s)\n",
    "\n",
    "    if i == 3 or i == 1:\n",
    "      ax.set_xlabel(colX, labelpad=20)\n",
    "      ax.set_ylabel(colY, labelpad=20)\n",
    "    else:\n",
    "      ax.xaxis.set_ticklabels([])\n",
    "      ax.yaxis.set_ticklabels([])\n",
    "\n",
    "    ax.view_init(elev=5., azim=45*i+15)\n",
    "\n",
    "  axes[1].set_zlabel(\"\\n\" + colZ, labelpad=1)\n",
    "\n",
    "  plt.suptitle(title)\n",
    "  plt.subplots_adjust(wspace=0.1, top=0.99)\n",
    "  plt.show()"
   ]
  },
  {
   "cell_type": "code",
   "execution_count": null,
   "metadata": {},
   "outputs": [],
   "source": [
    "# Q18\n",
    "plot3d(train_data_1, \"PCR_02\", \"is_special_blood\", \"PCR_06\", title=\"Comparing PCR_02 and PCR_06 with relation to special blood\", hue=\"risk\", s=5) \n"
   ]
  },
  {
   "cell_type": "markdown",
   "metadata": {},
   "source": [
    "## Q22 / Task F"
   ]
  },
  {
   "cell_type": "code",
   "execution_count": 56,
   "metadata": {},
   "outputs": [
    {
     "name": "stdout",
     "output_type": "stream",
     "text": [
      "<> label age is not normally distribured, p-value = 4.265696823802705e-14, stat = 0.9677310633735379\n",
      "<> label weight is not normally distribured, p-value = 2.074816823085137e-06, stat = 0.9898245835330154\n",
      "<> label num_of_siblings is not normally distribured, p-value = 5.229080805005748e-24, stat = 0.9087082195088065\n",
      "<> label happiness_score is not normally distribured, p-value = 5.318039128589055e-23, stat = 0.9168547489519551\n",
      "<> label household_income is not normally distribured, p-value = 3.1117626824038317e-25, stat = 0.8979978503469536\n",
      "<> label conversations_per_day is not normally distribured, p-value = 1.170264031580729e-26, stat = 0.8843663571072649\n",
      "<++> label sugar_levels is normally distribured!, p-value = 0.5148450745748832, stat = 0.9984380861325534\n",
      "<> label sport_activity is not normally distribured, p-value = 9.689875569405641e-30, stat = 0.8500751515818066\n",
      "<> label pcr_date is not normally distribured, p-value = 9.393374175560125e-18, stat = 0.950905546167004\n",
      "<> label PCR_01 is not normally distribured, p-value = 8.530286927348051e-16, stat = 0.9605245370823133\n",
      "<> label PCR_02 is not normally distribured, p-value = 6.265409139994032e-15, stat = 0.9643225758211269\n",
      "<> label PCR_03 is not normally distribured, p-value = 5.3823387079185175e-17, stat = 0.9548064724029058\n",
      "<++> label PCR_04 is normally distribured!, p-value = 0.4517323929761584, stat = 0.998334845711097\n",
      "<> label PCR_05 is not normally distribured, p-value = 8.213000964236707e-20, stat = 0.9390967462257225\n",
      "<> label PCR_06 is not normally distribured, p-value = 2.566030741688179e-15, stat = 0.9626551625377598\n",
      "<++> label PCR_07 is normally distribured!, p-value = 0.7724616990891569, stat = 0.9988273045013027\n",
      "<> label PCR_08 is not normally distribured, p-value = 1.699527542036242e-22, stat = 0.9207231792237445\n",
      "<++> label PCR_09 is normally distribured!, p-value = 0.7186596608038772, stat = 0.998744930571145\n",
      "<++> label PCR_10 is normally distribured!, p-value = 0.5243407241582128, stat = 0.9984530448445175\n",
      "<> label smell_loss is not normally distribured, p-value = 2.8686044787746637e-50, stat = 0.35919761881183776\n",
      "<> label shortness_of_breath is not normally distribured, p-value = 5.3395232717116055e-46, stat = 0.5118173464987801\n",
      "<> label sore_throat is not normally distribured, p-value = 2.9048372174079526e-42, stat = 0.6194025755533392\n",
      "<> label fever is not normally distribured, p-value = 1.4980907122531142e-49, stat = 0.38731766564768066\n",
      "<> label cough is not normally distribured, p-value = 2.445873801727554e-47, stat = 0.4676194703322345\n",
      "<> label current_location_x is not normally distribured, p-value = 7.728872145674819e-25, stat = 0.9015503203260327\n",
      "<> label current_location_y is not normally distribured, p-value = 1.505192176702485e-15, stat = 0.961633433083762\n",
      "<> label is_special_blood is not normally distribured, p-value = 1.344809823736626e-41, stat = 0.6363449728162538\n",
      "<> label is_male is not normally distribured, p-value = 1.1563163866630578e-41, stat = 0.6347033578404866\n",
      "{'age': 'minmax', 'weight': 'minmax', 'num_of_siblings': 'standard', 'happiness_score': 'standard', 'household_income': 'standard', 'conversations_per_day': 'standard', 'sugar_levels': 'standard', 'sport_activity': 'standard', 'pcr_date': 'minmax', 'PCR_01': 'minmax', 'PCR_02': 'minmax', 'PCR_03': 'minmax', 'PCR_04': 'standard', 'PCR_05': 'minmax', 'PCR_06': 'minmax', 'PCR_07': 'standard', 'PCR_08': 'minmax', 'PCR_09': 'standard', 'PCR_10': 'standard', 'smell_loss': 'minmax', 'shortness_of_breath': 'minmax', 'sore_throat': 'minmax', 'fever': 'minmax', 'cough': 'minmax', 'current_location_x': 'minmax', 'current_location_y': 'minmax', 'is_special_blood': 'minmax', 'is_male': 'minmax'}\n"
     ]
    }
   ],
   "source": [
    "from sklearn.preprocessing import StandardScaler\n",
    "normalized_data = train_data_1.copy()\n",
    "labels = list(normalized_data.columns)\n",
    "labels.remove('spread')\n",
    "labels.remove('risk')\n",
    "from scipy.stats import shapiro\n",
    "scaler_decision = dict()\n",
    "for label in labels:\n",
    "    stat, p = shapiro(normalized_data[[label]])\n",
    "    if p < 0.05:\n",
    "        print(f\"<> label {label} is not normally distribured, p-value = {p}, stat = {stat}\")\n",
    "        num_unique = normalized_data[label].nunique()\n",
    "        if num_unique > 2 and num_unique < 30:\n",
    "            normalized_data[[label]] = StandardScaler().fit_transform(normalized_data[[label]])\n",
    "            scaler_decision[label] = 'standard'\n",
    "        else:\n",
    "            normalized_data[[label]] = MinMaxScaler((-1, 1)).fit_transform(normalized_data[[label]])\n",
    "            scaler_decision[label] = 'minmax'\n",
    "    else:\n",
    "        print(f\"<++> label {label} is normally distribured!, p-value = {p}, stat = {stat}\")\n",
    "        normalized_data[[label]] = StandardScaler().fit_transform(normalized_data[[label]])\n",
    "        scaler_decision[label] = 'standard'\n",
    "\n",
    "\n",
    "print(scaler_decision)"
   ]
  },
  {
   "cell_type": "code",
   "execution_count": 55,
   "metadata": {},
   "outputs": [
    {
     "data": {
      "image/png": "[encoded data removed]",
      "text/plain": [
       "<Figure size 640x480 with 1 Axes>"
      ]
     },
     "metadata": {},
     "output_type": "display_data"
    }
   ],
   "source": [
    "\n",
    "\n",
    "sns.histplot(data=normalized_data, x='conversations_per_day', hue='spread', palette=[\"#90EE90\", \"#8B0000\"], line_kws={\"linewidth\": 3},\n",
    "            kde=True, multiple=\"dodge\")\n",
    "plt.grid(alpha=0.5)\n",
    "plt.title(\"spread counts by age, after normalization\")\n",
    "plt.show()"
   ]
  },
  {
   "cell_type": "code",
   "execution_count": 72,
   "metadata": {},
   "outputs": [],
   "source": [
    "\n",
    "def date_to_int(date: str):\n",
    "    \"\"\"\n",
    "    Converts a date in the format of `dd-MM-yy` to an integer.\n",
    "    Accuracy is compromised for easier code (Not accounting for different number of days in month)\n",
    "    \"\"\"\n",
    "    splitted_date = [int(n) for n in date.split(\"-\")]\n",
    "    return 375 * splitted_date[2] + 31 * splitted_date[1] + splitted_date[0]\n",
    "\n",
    "\n",
    "def transform_features(new_data):\n",
    "    transformed_data = new_data.copy()\n",
    "    transformed_data[\"SpecialProperty\"] = transformed_data[\"blood_type\"].isin((\"O+\", \"B+\"))  # Pascal case replaces snake case :(\n",
    "    transformed_data = transformed_data.drop(\"blood_type\", axis=1)\n",
    "\n",
    "    # Extracting possible symptoms and adding them as Boolean values\n",
    "    possible_symptoms = transformed_data[\"symptoms\"].unique()\n",
    "    possible_symptoms = set(symptom for combination in possible_symptoms if isinstance(combination, str) for symptom in combination.split(';'))\n",
    "    for symptom in possible_symptoms:\n",
    "        transformed_data[symptom] = transformed_data[\"symptoms\"].apply(lambda symptoms_str: int(symptom in symptoms_str) if isinstance(symptoms_str, str) else 0)\n",
    "    transformed_data = transformed_data.drop(\"symptoms\", axis=1)\n",
    "    transformed_data[\"current_location_x\"] = transformed_data[\"current_location\"].apply(lambda location: ast.literal_eval(location)[0])\n",
    "    transformed_data[\"current_location_y\"] = transformed_data[\"current_location\"].apply(lambda location: ast.literal_eval(location)[1])\n",
    "    transformed_data[\"is_special_blood\"] = transformed_data[\"SpecialProperty\"].apply(lambda is_special: int(is_special))\n",
    "    transformed_data[\"is_male\"] = transformed_data[\"sex\"].apply(lambda sex: int(sex == \"M\"))\n",
    "    transformed_data[\"pcr_date\"] = transformed_data[\"pcr_date\"].apply(date_to_int)\n",
    "    transformed_data = transformed_data.drop([\"patient_id\", \"current_location\", \"sex\", \"SpecialProperty\"], axis=1)\n",
    "    return transformed_data\n",
    "\n",
    "def prepare_data(training_data, new_data):\n",
    "    normalized_data = new_data.copy()\n",
    "    normalized_data = transform_features(normalized_data)\n",
    "    training_data = transform_features(training_data)\n",
    "    print(list(normalized_data.columns))\n",
    "    labels = list(normalized_data.columns)\n",
    "    labels.remove('spread')\n",
    "    labels.remove('risk')\n",
    "    scaler_decision = dict()\n",
    "    for label in labels:\n",
    "        stat, p = shapiro(normalized_data[[label]])\n",
    "        if p < 0.05:\n",
    "            print(f\"<> label {label} is not normally distribured, p-value = {p}, stat = {stat}\")\n",
    "            num_unique = normalized_data[label].nunique()\n",
    "            if num_unique > 2 and num_unique < 30:\n",
    "                normalized_data[[label]] = StandardScaler().fit(training_data[[label]]).transform(normalized_data[[label]])\n",
    "                scaler_decision[label] = 'standard'\n",
    "            else:\n",
    "                normalized_data[[label]] = MinMaxScaler((-1, 1)).fit(training_data[[label]]).transform(normalized_data[[label]])\n",
    "                scaler_decision[label] = 'minmax'\n",
    "        else:\n",
    "            print(f\"<++> label {label} is normally distribured!, p-value = {p}, stat = {stat}\")\n",
    "            normalized_data[[label]] = StandardScaler().fit(training_data[[label]]).transform(normalized_data[[label]])\n",
    "            scaler_decision[label] = 'standard'\n",
    "    return normalized_data"
   ]
  },
  {
   "cell_type": "code",
   "execution_count": 76,
   "metadata": {},
   "outputs": [
    {
     "name": "stdout",
     "output_type": "stream",
     "text": [
      "['age', 'weight', 'num_of_siblings', 'happiness_score', 'household_income', 'conversations_per_day', 'sugar_levels', 'sport_activity', 'pcr_date', 'PCR_01', 'PCR_02', 'PCR_03', 'PCR_04', 'PCR_05', 'PCR_06', 'PCR_07', 'PCR_08', 'PCR_09', 'PCR_10', 'spread', 'risk', 'smell_loss', 'shortness_of_breath', 'sore_throat', 'fever', 'cough', 'current_location_x', 'current_location_y', 'is_special_blood', 'is_male']\n",
      "<> label age is not normally distribured, p-value = 4.265696823802705e-14, stat = 0.9677310633735379\n",
      "<> label weight is not normally distribured, p-value = 2.074816823085137e-06, stat = 0.9898245835330154\n",
      "<> label num_of_siblings is not normally distribured, p-value = 5.229080805005748e-24, stat = 0.9087082195088065\n",
      "<> label happiness_score is not normally distribured, p-value = 5.318039128589055e-23, stat = 0.9168547489519551\n",
      "<> label household_income is not normally distribured, p-value = 3.1117626824038317e-25, stat = 0.8979978503469536\n",
      "<> label conversations_per_day is not normally distribured, p-value = 1.170264031580729e-26, stat = 0.8843663571072649\n",
      "<++> label sugar_levels is normally distribured!, p-value = 0.5148450745748832, stat = 0.9984380861325534\n",
      "<> label sport_activity is not normally distribured, p-value = 9.689875569405641e-30, stat = 0.8500751515818066\n",
      "<> label pcr_date is not normally distribured, p-value = 9.393374175560125e-18, stat = 0.950905546167004\n",
      "<> label PCR_01 is not normally distribured, p-value = 8.530286927348051e-16, stat = 0.9605245370823133\n",
      "<> label PCR_02 is not normally distribured, p-value = 6.265409139994032e-15, stat = 0.9643225758211269\n",
      "<> label PCR_03 is not normally distribured, p-value = 5.3823387079185175e-17, stat = 0.9548064724029058\n",
      "<++> label PCR_04 is normally distribured!, p-value = 0.4517323929761584, stat = 0.998334845711097\n",
      "<> label PCR_05 is not normally distribured, p-value = 8.213000964236707e-20, stat = 0.9390967462257225\n",
      "<> label PCR_06 is not normally distribured, p-value = 2.566030741688179e-15, stat = 0.9626551625377598\n",
      "<++> label PCR_07 is normally distribured!, p-value = 0.7724616990891569, stat = 0.9988273045013027\n",
      "<> label PCR_08 is not normally distribured, p-value = 1.699527542036242e-22, stat = 0.9207231792237445\n",
      "<++> label PCR_09 is normally distribured!, p-value = 0.7186596608038772, stat = 0.998744930571145\n",
      "<++> label PCR_10 is normally distribured!, p-value = 0.5243407241582128, stat = 0.9984530448445175\n",
      "<> label smell_loss is not normally distribured, p-value = 2.8686044787746637e-50, stat = 0.35919761881183776\n",
      "<> label shortness_of_breath is not normally distribured, p-value = 5.3395232717116055e-46, stat = 0.5118173464987801\n",
      "<> label sore_throat is not normally distribured, p-value = 2.9048372174079526e-42, stat = 0.6194025755533392\n",
      "<> label fever is not normally distribured, p-value = 1.4980907122531142e-49, stat = 0.38731766564768066\n",
      "<> label cough is not normally distribured, p-value = 2.445873801727554e-47, stat = 0.4676194703322345\n",
      "<> label current_location_x is not normally distribured, p-value = 7.728872145674819e-25, stat = 0.9015503203260327\n",
      "<> label current_location_y is not normally distribured, p-value = 1.505192176702485e-15, stat = 0.961633433083762\n",
      "<> label is_special_blood is not normally distribured, p-value = 1.344809823736626e-41, stat = 0.6363449728162538\n",
      "<> label is_male is not normally distribured, p-value = 1.1563163866630578e-41, stat = 0.6347033578404866\n",
      "['age', 'weight', 'num_of_siblings', 'happiness_score', 'household_income', 'conversations_per_day', 'sugar_levels', 'sport_activity', 'pcr_date', 'PCR_01', 'PCR_02', 'PCR_03', 'PCR_04', 'PCR_05', 'PCR_06', 'PCR_07', 'PCR_08', 'PCR_09', 'PCR_10', 'spread', 'risk', 'smell_loss', 'shortness_of_breath', 'sore_throat', 'fever', 'cough', 'current_location_x', 'current_location_y', 'is_special_blood', 'is_male']\n",
      "<> label age is not normally distribured, p-value = 1.5398975407355577e-06, stat = 0.9590439016612591\n",
      "<++> label weight is normally distribured!, p-value = 0.30327111787250727, stat = 0.9931200383543141\n",
      "<> label num_of_siblings is not normally distribured, p-value = 9.740649297451004e-12, stat = 0.9013854630907676\n",
      "<> label happiness_score is not normally distribured, p-value = 5.217791335272366e-11, stat = 0.9114078788477993\n",
      "<> label household_income is not normally distribured, p-value = 3.209422954597854e-12, stat = 0.8943573824431433\n",
      "<> label conversations_per_day is not normally distribured, p-value = 1.952112672032238e-13, stat = 0.875142066645661\n",
      "<++> label sugar_levels is normally distribured!, p-value = 0.2680099893481184, stat = 0.9928060594433271\n",
      "<> label sport_activity is not normally distribured, p-value = 1.1290328883264864e-15, stat = 0.8336574687126622\n",
      "<> label pcr_date is not normally distribured, p-value = 2.9407788532106306e-08, stat = 0.9432962079530215\n",
      "<> label PCR_01 is not normally distribured, p-value = 5.531933914627107e-08, stat = 0.9460086167193241\n",
      "<> label PCR_02 is not normally distribured, p-value = 1.5912969435743493e-06, stat = 0.959162648708995\n",
      "<> label PCR_03 is not normally distribured, p-value = 2.527126263943019e-07, stat = 0.9522144312593906\n",
      "<++> label PCR_04 is normally distribured!, p-value = 0.7675820282186456, stat = 0.9959726719589705\n",
      "<> label PCR_05 is not normally distribured, p-value = 4.936156642286389e-10, stat = 0.9237496984343626\n",
      "<> label PCR_06 is not normally distribured, p-value = 5.967690591275573e-07, stat = 0.9555344076310375\n",
      "<++> label PCR_07 is normally distribured!, p-value = 0.12279477150007606, stat = 0.9909177764532092\n",
      "<> label PCR_08 is not normally distribured, p-value = 1.6545199627080024e-10, stat = 0.9178955897627812\n",
      "<++> label PCR_09 is normally distribured!, p-value = 0.4705730755394719, stat = 0.9943084256523688\n",
      "<> label PCR_10 is not normally distribured, p-value = 0.004357061586789406, stat = 0.9829751124480383\n",
      "<> label smell_loss is not normally distribured, p-value = 1.812949571289794e-29, stat = 0.31761616425159667\n",
      "<> label shortness_of_breath is not normally distribured, p-value = 3.701763264009221e-26, stat = 0.49401246078149863\n",
      "<> label sore_throat is not normally distribured, p-value = 1.623473586303665e-23, stat = 0.6073022081915356\n",
      "<> label fever is not normally distribured, p-value = 8.269524691323207e-28, stat = 0.4112281938711647\n",
      "<> label cough is not normally distribured, p-value = 2.321470265844551e-27, stat = 0.43468877767008385\n",
      "<> label current_location_x is not normally distribured, p-value = 3.1057437185618936e-11, stat = 0.9083852893196737\n",
      "<> label current_location_y is not normally distribured, p-value = 4.624327482377633e-06, stat = 0.962921178912716\n",
      "<> label is_special_blood is not normally distribured, p-value = 7.249889073700812e-23, stat = 0.6318854865461204\n",
      "<> label is_male is not normally distribured, p-value = 9.661055207040495e-23, stat = 0.6364638938083159\n"
     ]
    }
   ],
   "source": [
    "full_train_set, full_test_set = train_test_split(data_frame, random_state=randomness, test_size=0.2)\n",
    "prepared_train_data = prepare_data(full_train_set, full_train_set)\n",
    "prepared_train_data.to_csv(\"prepared_train_data.csv\", index=False)\n",
    "prepared_test_data = prepare_data(full_train_set, full_test_set)\n",
    "prepared_test_data.to_csv(\"prepared_test_data.csv\", index=False)\n"
   ]
  }
 ],
 "metadata": {
  "kernelspec": {
   "display_name": "Python 3",
   "language": "python",
   "name": "python3"
  },
  "language_info": {
   "codemirror_mode": {
    "name": "ipython",
    "version": 3
   },
   "file_extension": ".py",
   "mimetype": "text/x-python",
   "name": "python",
   "nbconvert_exporter": "python",
   "pygments_lexer": "ipython3",
   "version": "3.12.1"
  }
 },
 "nbformat": 4,
 "nbformat_minor": 2
}
